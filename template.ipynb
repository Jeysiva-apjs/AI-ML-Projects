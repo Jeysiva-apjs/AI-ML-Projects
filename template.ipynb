{
 "cells": [
  {
   "cell_type": "markdown",
   "id": "880fc906-90e2-4cc4-8e96-b26040a8e8be",
   "metadata": {},
   "source": [
    "# Libraries"
   ]
  },
  {
   "cell_type": "code",
   "execution_count": null,
   "id": "9b0fb6c3-cd78-4d96-a407-bf9d1f89d655",
   "metadata": {},
   "outputs": [],
   "source": []
  },
  {
   "cell_type": "code",
   "execution_count": null,
   "id": "815bddc8-9c2d-46f3-a72f-2b7f3fd191e9",
   "metadata": {},
   "outputs": [],
   "source": []
  },
  {
   "cell_type": "markdown",
   "id": "aaa20582-c4f8-4aee-8dee-33ae8a3b9ce7",
   "metadata": {},
   "source": [
    "# Data Collection"
   ]
  },
  {
   "cell_type": "code",
   "execution_count": null,
   "id": "4d692337-831b-4691-b2be-36d628645765",
   "metadata": {},
   "outputs": [],
   "source": []
  },
  {
   "cell_type": "code",
   "execution_count": null,
   "id": "5f75286a-42f6-447a-af18-b28f06f153d0",
   "metadata": {},
   "outputs": [],
   "source": []
  },
  {
   "cell_type": "markdown",
   "id": "7c3c2f52-35cc-4f43-8266-a0fdaade1dd1",
   "metadata": {},
   "source": [
    "# Data Cleaning & Analysis"
   ]
  },
  {
   "cell_type": "markdown",
   "id": "611b3f94-70c6-4521-af89-de975b23d9e8",
   "metadata": {},
   "source": [
    "- Handle missing values \n",
    "- Handle Imbalanced dataset \n",
    "- Handle outliers \n",
    "- Encode categorical features \n",
    "- Normalization vs Standardisation "
   ]
  },
  {
   "cell_type": "code",
   "execution_count": null,
   "id": "a22a4587-6418-43e6-9ff0-55ae421624ab",
   "metadata": {},
   "outputs": [],
   "source": []
  },
  {
   "cell_type": "code",
   "execution_count": null,
   "id": "33993f56-453e-4a31-b2fe-05ae54ec3c5c",
   "metadata": {},
   "outputs": [],
   "source": []
  },
  {
   "cell_type": "markdown",
   "id": "3a9a75b5-8019-42b0-8a98-27dc4deca0f0",
   "metadata": {},
   "source": [
    "# Model Training"
   ]
  },
  {
   "cell_type": "code",
   "execution_count": null,
   "id": "16bce7ec-a476-4db4-98f8-e8923a960e7b",
   "metadata": {},
   "outputs": [],
   "source": []
  },
  {
   "cell_type": "code",
   "execution_count": null,
   "id": "5bdd415f-13e2-4c27-bcdb-04a169eda1ac",
   "metadata": {},
   "outputs": [],
   "source": []
  }
 ],
 "metadata": {
  "kernelspec": {
   "display_name": "Python 3 (myenv)",
   "language": "python",
   "name": "myenv"
  },
  "language_info": {
   "codemirror_mode": {
    "name": "ipython",
    "version": 3
   },
   "file_extension": ".py",
   "mimetype": "text/x-python",
   "name": "python",
   "nbconvert_exporter": "python",
   "pygments_lexer": "ipython3",
   "version": "3.13.1"
  }
 },
 "nbformat": 4,
 "nbformat_minor": 5
}
